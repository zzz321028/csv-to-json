{
 "cells": [
  {
   "cell_type": "code",
   "execution_count": 6,
   "metadata": {},
   "outputs": [],
   "source": [
    "import json\n",
    "import csv\n",
    "def transjson(jsonpath, csvpath):\n",
    "    fw = open('./student.json', 'w', encoding='utf8') \n",
    "    fo = open('./student.csv', 'r', newline='')    \n",
    "    ls = []\n",
    "    for line in fo:\n",
    "        line = line.replace(\"\\n\", \"\")  \n",
    "        ls.append(line.split(\",\"))  \n",
    "\n",
    "    for i in range(1, len(ls)):  \n",
    "        ls[i] = dict(zip(ls[0], ls[i]))\n",
    "        json.dump(ls[1:], fw, sort_keys=True, indent=4)\n"
   ]
  },
  {
   "cell_type": "code",
   "execution_count": 7,
   "metadata": {},
   "outputs": [],
   "source": [
    "if __name__ == '__main__':\n",
    "     transjson('./student.json', './student.csv')"
   ]
  },
  {
   "cell_type": "code",
   "execution_count": null,
   "metadata": {},
   "outputs": [],
   "source": []
  }
 ],
 "metadata": {
  "kernelspec": {
   "display_name": "Python 3",
   "language": "python",
   "name": "python3"
  },
  "language_info": {
   "codemirror_mode": {
    "name": "ipython",
    "version": 3
   },
   "file_extension": ".py",
   "mimetype": "text/x-python",
   "name": "python",
   "nbconvert_exporter": "python",
   "pygments_lexer": "ipython3",
   "version": "3.8.3"
  }
 },
 "nbformat": 4,
 "nbformat_minor": 4
}
